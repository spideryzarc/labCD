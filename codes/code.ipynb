{
 "cells": [
  {
   "cell_type": "code",
   "execution_count": 2,
   "metadata": {
    "vscode": {
     "languageId": "ruby"
    }
   },
   "outputs": [
    {
     "name": "stdout",
     "output_type": "stream",
     "text": [
      "   sepal_length  sepal_width  petal_length  petal_width        class\n",
      "0           5.1          3.5           1.4          0.2  Iris-setosa\n",
      "1           4.9          3.0           1.4          0.2  Iris-setosa\n",
      "2           4.7          3.2           1.3          0.2  Iris-setosa\n",
      "3           4.6          3.1           1.5          0.2  Iris-setosa\n",
      "4           5.0          3.6           1.4          0.2  Iris-setosa\n"
     ]
    }
   ],
   "source": [
    "import pandas as pd\n",
    "\n",
    "# URL do conjunto de dados Iris\n",
    "url = \"https://archive.ics.uci.edu/ml/machine-learning-databases/iris/iris.data\"\n",
    "\n",
    "# Nomes das colunas do conjunto de dados\n",
    "column_names = ['sepal_length', 'sepal_width', 'petal_length', 'petal_width', 'class']\n",
    "\n",
    "# Carregando o conjunto de dados diretamente da URL\n",
    "iris_data = pd.read_csv(url, header=None, names=column_names)\n",
    "\n",
    "# Exibindo as primeiras linhas do conjunto de dados\n",
    "print(iris_data.head())\n"
   ]
  },
  {
   "cell_type": "code",
   "execution_count": 20,
   "metadata": {
    "vscode": {
     "languageId": "ruby"
    }
   },
   "outputs": [
    {
     "name": "stdout",
     "output_type": "stream",
     "text": [
      "População: 8097878.249279\n",
      "Amostra (ddof=0): 8023671.5164987\n",
      "Amostra (ddof=1): 8060412.52899889\n",
      "EQM (ddof=0): 514447871378.3975\n",
      "EQM (ddof=1): 490366639657.6593\n"
     ]
    }
   ],
   "source": [
    "import numpy as np\n",
    "pop = np.random.randint(1, 10000, 1000)\n",
    "v_pop = np.var(pop, ddof=0)\n",
    "# Variâncias de 1000 amostras de 100 valores de pop\n",
    "v_A = np.array([np.var(np.random.choice(pop, 100, replace=False), ddof=0) for _ in range(1000)])\n",
    "v_B = np.array([np.var(np.random.choice(pop, 100, replace=False), ddof=1) for _ in range(1000)])\n",
    "print('População:', v_pop)\n",
    "print('Amostra (ddof=0):', np.mean(v_A))\n",
    "print('Amostra (ddof=1):', np.mean(v_B))\n",
    "# erro quadrático médio\n",
    "print('EQM (ddof=0):', np.mean((v_A - v_pop)**2))\n",
    "print('EQM (ddof=1):', np.mean((v_B - v_pop)**2))"
   ]
  },
  {
   "cell_type": "code",
   "execution_count": 13,
   "metadata": {
    "vscode": {
     "languageId": "ruby"
    }
   },
   "outputs": [
    {
     "data": {
      "text/plain": [
       "611775.4502249993"
      ]
     },
     "execution_count": 13,
     "metadata": {},
     "output_type": "execute_result"
    }
   ],
   "source": [
    "\n"
   ]
  }
 ],
 "metadata": {
  "kernelspec": {
   "display_name": "Python 3",
   "language": "python",
   "name": "python3"
  },
  "language_info": {
   "codemirror_mode": {
    "name": "ipython",
    "version": 3
   },
   "file_extension": ".py",
   "mimetype": "text/x-python",
   "name": "python",
   "nbconvert_exporter": "python",
   "pygments_lexer": "ipython3",
   "version": "3.11.3"
  }
 },
 "nbformat": 4,
 "nbformat_minor": 2
}
